{
 "metadata": {
  "name": "",
  "signature": "sha256:8181d1b63099b9d3717d20c795ebcd7d585c01f0eab7ccbab10f0a759208b5eb"
 },
 "nbformat": 3,
 "nbformat_minor": 0,
 "worksheets": [
  {
   "cells": [
    {
     "cell_type": "code",
     "collapsed": false,
     "input": [
      "\"\"\"\n",
      "    This python program calculates the PCA from the input data.\n",
      "\"\"\"\n",
      "import sys\n",
      "import getopt\n",
      "import numpy as np\n",
      "\n",
      "def main():\n",
      "    # parse command line options\n",
      "    try:\n",
      "        opts, args = getopt.getopt(sys.argv[1:], \"h\", [\"help\"])\n",
      "    except getopt.error, msg:\n",
      "        print msg\n",
      "        print \"for help use --help\"\n",
      "        sys.exit(2)    \n",
      "    # process options\n",
      "    for o, a in opts:\n",
      "        if o in (\"-h\", \"--help\"):\n",
      "            print __doc__\n",
      "            sys.exit(0)\n",
      "    \n",
      "\n",
      "if __name__==\"__main__\":\n",
      "    main()"
     ],
     "language": "python",
     "metadata": {},
     "outputs": [
      {
       "output_type": "stream",
       "stream": "stdout",
       "text": [
        "option -f not recognized\n",
        "for help use --help\n"
       ]
      },
      {
       "ename": "SystemExit",
       "evalue": "2",
       "output_type": "pyerr",
       "traceback": [
        "An exception has occurred, use %tb to see the full traceback.\n",
        "\u001b[1;31mSystemExit\u001b[0m\u001b[1;31m:\u001b[0m 2\n"
       ]
      },
      {
       "output_type": "stream",
       "stream": "stderr",
       "text": [
        "To exit: use 'exit', 'quit', or Ctrl-D.\n"
       ]
      }
     ],
     "prompt_number": 4
    },
    {
     "cell_type": "code",
     "collapsed": false,
     "input": [],
     "language": "python",
     "metadata": {},
     "outputs": []
    }
   ],
   "metadata": {}
  }
 ]
}