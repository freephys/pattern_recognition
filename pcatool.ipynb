{
 "metadata": {
  "name": "",
  "signature": "sha256:d43c83b88b79de22c09efe6604fea3388d6b41c798bd12d8e4b4eb282c0626c1"
 },
 "nbformat": 3,
 "nbformat_minor": 0,
 "worksheets": [
  {
   "cells": [
    {
     "cell_type": "code",
     "collapsed": false,
     "input": [
      "\"\"\"\n",
      "    This python program calculates the PCA from the input data.\n",
      "\"\"\"\n",
      "import sys\n",
      "import numpy as np\n",
      "\n",
      "def main():\n",
      "    \n",
      "\n",
      "if __name__==\"__main__\":\n",
      "    main()"
     ],
     "language": "python",
     "metadata": {},
     "outputs": []
    }
   ],
   "metadata": {}
  }
 ]
}