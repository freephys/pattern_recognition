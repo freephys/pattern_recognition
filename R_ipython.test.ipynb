{
 "metadata": {
  "name": "",
  "signature": "sha256:35d84f1755f00003221b13f96a9971406133e9c3566a24ba59438e3d5a0a4eef"
 },
 "nbformat": 3,
 "nbformat_minor": 0,
 "worksheets": [
  {
   "cells": [
    {
     "cell_type": "code",
     "collapsed": false,
     "input": [
      "library(IRdisplay)\n",
      "\n",
      "df <- data.fram(\n",
      "  x = c(1,2,3),\n",
      "  y = c(4,5,6)\n",
      ")"
     ],
     "language": "python",
     "metadata": {},
     "outputs": [],
     "prompt_number": 3
    },
    {
     "cell_type": "code",
     "collapsed": false,
     "input": [
      "str(df)\n",
      "print(df)"
     ],
     "language": "python",
     "metadata": {},
     "outputs": [],
     "prompt_number": 5
    },
    {
     "cell_type": "code",
     "collapsed": false,
     "input": [],
     "language": "python",
     "metadata": {},
     "outputs": [],
     "prompt_number": 10
    }
   ],
   "metadata": {}
  }
 ]
}