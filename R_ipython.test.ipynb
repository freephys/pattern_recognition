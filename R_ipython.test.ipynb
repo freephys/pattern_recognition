{
 "metadata": {
  "name": "",
  "signature": "sha256:f29e1fa9ad006e4093ba3db533769d27d200ab37b2b095e34f994770d7b09b8a"
 },
 "nbformat": 3,
 "nbformat_minor": 0,
 "worksheets": [
  {
   "cells": [
    {
     "cell_type": "code",
     "collapsed": false,
     "input": [
      "\n",
      "\n",
      "df <- data.frame(\n",
      "  x = c(1,2,3),\n",
      "  y = c(4,5,6)\n",
      ")"
     ],
     "language": "python",
     "metadata": {},
     "outputs": [],
     "prompt_number": 6
    },
    {
     "cell_type": "code",
     "collapsed": false,
     "input": [
      "str(df)\n",
      "print(df)"
     ],
     "language": "python",
     "metadata": {},
     "outputs": [],
     "prompt_number": 7
    },
    {
     "cell_type": "code",
     "collapsed": false,
     "input": [],
     "language": "python",
     "metadata": {},
     "outputs": [],
     "prompt_number": 10
    }
   ],
   "metadata": {}
  }
 ]
}