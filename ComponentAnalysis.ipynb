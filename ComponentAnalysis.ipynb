{
 "metadata": {
  "name": "",
  "signature": "sha256:8f72ef0a24a1de9054164e07b96b28395acc58387c18da72657d983536aa8077"
 },
 "nbformat": 3,
 "nbformat_minor": 0,
 "worksheets": [
  {
   "cells": [
    {
     "cell_type": "markdown",
     "metadata": {},
     "source": [
      "<h1>Component Analysis Methods </h1>\n",
      "\n",
      "\n",
      "\n",
      "<b> Vahid Mirjalili\n",
      "\n",
      "May, 2014 </b>\n",
      "\n",
      "A number of component analysis techniques exist that each is applicable to specific problem domain. Therefore, it is absolutely essential to know how these methods work. In this article, three such methods, i.e. Pricipal Component Analysis (PCA), Linear Discriminant Analysis (LDA), and Multiple Discriminant Analysis (MDA) are extensively described, along with their implementation in numpy."
     ]
    },
    {
     "cell_type": "code",
     "collapsed": false,
     "input": [],
     "language": "python",
     "metadata": {},
     "outputs": []
    }
   ],
   "metadata": {}
  }
 ]
}