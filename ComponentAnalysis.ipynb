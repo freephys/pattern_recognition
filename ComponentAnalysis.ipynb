{
 "metadata": {
  "name": "",
  "signature": "sha256:0545b32a52890d59925132f849d1ca814936fd968ae6450f72210fc7bc2588a4"
 },
 "nbformat": 3,
 "nbformat_minor": 0,
 "worksheets": [
  {
   "cells": [
    {
     "cell_type": "markdown",
     "metadata": {},
     "source": [
      "<h1>Component Analysis Methods </h1>\n",
      "\n",
      "\n",
      "\n",
      "<b> Vahid Mirjalili\n",
      "\n",
      "May, 2014 </b>\n",
      "\n",
      "A number of component analysis techniques exist that each is applicable to specific problem domain. Therefore, it is absolutely essential to know how these methods work. In this article, three such methods, i.e. Pricipal Component Analysis (PCA), Linear and Multiple Discriminant Analysis (MDA) are extensively described, along with their implementation in numpy."
     ]
    },
    {
     "cell_type": "code",
     "collapsed": false,
     "input": [],
     "language": "python",
     "metadata": {},
     "outputs": [
      {
       "output_type": "stream",
       "stream": "stdout",
       "text": [
        "6.25\n"
       ]
      }
     ],
     "prompt_number": 1
    },
    {
     "cell_type": "code",
     "collapsed": false,
     "input": [
      "import matplotlib.pyplot as plt\n",
      "import numpy as np\n",
      "\n",
      "x = np.linspace(0, np.pi, 10)\n",
      "plt.plot(x, np.cos(x))\n",
      "\n",
      "plt.savefig('plot-cos.png')"
     ],
     "language": "python",
     "metadata": {},
     "outputs": [],
     "prompt_number": 5
    },
    {
     "cell_type": "code",
     "collapsed": false,
     "input": [],
     "language": "python",
     "metadata": {},
     "outputs": []
    }
   ],
   "metadata": {}
  }
 ]
}