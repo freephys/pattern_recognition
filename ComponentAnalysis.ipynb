{
 "metadata": {
  "name": "",
  "signature": "sha256:67bccc215d590c71c7517fe7129eec988d6ceada11ae6ff659c5f72047d6b17c"
 },
 "nbformat": 3,
 "nbformat_minor": 0,
 "worksheets": [
  {
   "cells": [
    {
     "cell_type": "markdown",
     "metadata": {},
     "source": [
      "<h1>Component Analysis Methods </h1>\n",
      "\n",
      "\n",
      "\n",
      "<b> Vahid Mirjalili\n",
      "\n",
      "May, 2014 </b>\n",
      "\n",
      "A number of component analysis techniques exist that each is applicable to specific problem domain. "
     ]
    },
    {
     "cell_type": "code",
     "collapsed": false,
     "input": [],
     "language": "python",
     "metadata": {},
     "outputs": []
    }
   ],
   "metadata": {}
  }
 ]
}