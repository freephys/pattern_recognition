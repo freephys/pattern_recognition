{
 "metadata": {
  "name": "",
  "signature": "sha256:c102ceebe69e60e4ff328461bc4cf16e42adc50941f59915129f75938e9d7843"
 },
 "nbformat": 3,
 "nbformat_minor": 0,
 "worksheets": [
  {
   "cells": [
    {
     "cell_type": "code",
     "collapsed": false,
     "input": [
      "\n",
      "\n",
      "df <- data.frame(\n",
      "  x = c(1,2,3),\n",
      "  y = c(4,5,6)\n",
      ")"
     ],
     "language": "python",
     "metadata": {},
     "outputs": [],
     "prompt_number": 2
    },
    {
     "cell_type": "code",
     "collapsed": false,
     "input": [
      "str(df)\n",
      "print(df)"
     ],
     "language": "python",
     "metadata": {},
     "outputs": [
      {
       "output_type": "stream",
       "stream": "stdout",
       "text": [
        "'data.frame':\t3 obs. of  2 variables:\n",
        " $ x: num  1 2 3\n",
        " $ y: num  4 5 6\n"
       ]
      },
      {
       "output_type": "stream",
       "stream": "stdout",
       "text": [
        "  x y\n",
        "1 1 4\n",
        "2 2 5\n",
        "3 3 6\n"
       ]
      }
     ],
     "prompt_number": 3
    },
    {
     "cell_type": "code",
     "collapsed": false,
     "input": [],
     "language": "python",
     "metadata": {},
     "outputs": [],
     "prompt_number": 10
    }
   ],
   "metadata": {}
  }
 ]
}