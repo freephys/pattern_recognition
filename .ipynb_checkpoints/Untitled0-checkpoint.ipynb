{
 "metadata": {
  "name": "",
  "signature": "sha256:88e2525a3052198b94a7176f87c1c8a6ba2c20a81d673c71099f87deb90fa722"
 },
 "nbformat": 3,
 "nbformat_minor": 0,
 "worksheets": []
}