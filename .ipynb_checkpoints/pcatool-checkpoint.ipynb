{
 "metadata": {
  "name": "",
  "signature": "sha256:363950cc366c85984660ff5c3c22a328a8d3e2acdf7af792f65a65d97ed4ae59"
 },
 "nbformat": 3,
 "nbformat_minor": 0,
 "worksheets": [
  {
   "cells": [
    {
     "cell_type": "code",
     "collapsed": false,
     "input": [
      "\"\"\"\n",
      "    This python program calculates the PCA from the input data.\n",
      "\"\"\"\n",
      "import sys\n",
      "import getopt\n",
      "import numpy as np\n",
      "\n",
      "def main():\n",
      "    # parse command line options\n",
      "    try:\n",
      "        opts, args = getopt.getopt(sys.argv[1:], \"h\", [\"help\"])\n",
      "    except getopt.error, msg:\n",
      "        print msg\n",
      "        print \"for help use --help\"\n",
      "        sys.exit(2)    \n",
      "    # process options\n",
      "    for o, a in opts:\n",
      "        if o in (\"-h\", \"--help\"):\n",
      "            print __doc__\n",
      "            sys.exit(0)\n",
      "    \n",
      "\n",
      "if __name__==\"__main__\":\n",
      "    main()"
     ],
     "language": "python",
     "metadata": {},
     "outputs": []
    },
    {
     "cell_type": "code",
     "collapsed": false,
     "input": [],
     "language": "python",
     "metadata": {},
     "outputs": []
    }
   ],
   "metadata": {}
  }
 ]
}