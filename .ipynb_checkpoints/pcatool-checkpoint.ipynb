{
 "metadata": {
  "name": "",
  "signature": "sha256:6fd5bcdaf03ed3035588fbf7b2a44c757007249e684cf850d74fa3a72155b645"
 },
 "nbformat": 3,
 "nbformat_minor": 0,
 "worksheets": [
  {
   "cells": [
    {
     "cell_type": "code",
     "collapsed": false,
     "input": [
      "\"\"\"\n",
      "    This python program calculates the PCA from the input data.\n",
      "\"\"\"\n",
      "import sys\n",
      "import numpy as np\n",
      "\n",
      "def main():\n",
      "    # parse command line options\n",
      "    try:\n",
      "        opts, args = getopt.getopt(sys.argv[1:], \"h\", [\"help\"])\n",
      "    except getopt.error, msg:\n",
      "        print msg\n",
      "        print \"for help use --help\"\n",
      "        sys.exit(2)\n",
      "\n",
      "if __name__==\"__main__\":\n",
      "    main()"
     ],
     "language": "python",
     "metadata": {},
     "outputs": []
    }
   ],
   "metadata": {}
  }
 ]
}