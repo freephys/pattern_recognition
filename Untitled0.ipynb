{
 "metadata": {
  "name": "",
  "signature": "sha256:069e4e67271f80dfa280c51371d07c04784b414f1b81580080d2529ba8891b6a"
 },
 "nbformat": 3,
 "nbformat_minor": 0,
 "worksheets": [
  {
   "cells": [
    {
     "cell_type": "code",
     "collapsed": false,
     "input": [
      "import plotly\n",
      "plotly.__version__"
     ],
     "language": "python",
     "metadata": {},
     "outputs": [
      {
       "metadata": {},
       "output_type": "pyout",
       "prompt_number": 4,
       "text": [
        "'1.0.1'"
       ]
      }
     ],
     "prompt_number": 4
    },
    {
     "cell_type": "code",
     "collapsed": false,
     "input": [
      "py = plotly.plotly(\"vmirjalily\", \"u9ucwy3au5\")"
     ],
     "language": "python",
     "metadata": {},
     "outputs": [
      {
       "ename": "TypeError",
       "evalue": "'module' object is not callable",
       "output_type": "pyerr",
       "traceback": [
        "\u001b[1;31m---------------------------------------------------------------------------\u001b[0m\n\u001b[1;31mTypeError\u001b[0m                                 Traceback (most recent call last)",
        "\u001b[1;32m<ipython-input-7-990a23b3dfcf>\u001b[0m in \u001b[0;36m<module>\u001b[1;34m()\u001b[0m\n\u001b[1;32m----> 1\u001b[1;33m \u001b[0mpy\u001b[0m \u001b[1;33m=\u001b[0m \u001b[0mplotly\u001b[0m\u001b[1;33m.\u001b[0m\u001b[0mplotly\u001b[0m\u001b[1;33m(\u001b[0m\u001b[1;34m\"vmirjalily\"\u001b[0m\u001b[1;33m,\u001b[0m \u001b[1;34m\"u9ucwy3au5\"\u001b[0m\u001b[1;33m)\u001b[0m\u001b[1;33m\u001b[0m\u001b[0m\n\u001b[0m",
        "\u001b[1;31mTypeError\u001b[0m: 'module' object is not callable"
       ]
      }
     ],
     "prompt_number": 7
    },
    {
     "cell_type": "code",
     "collapsed": false,
     "input": [
      "import numpy as np  # we'll need this\n",
      "\n",
      "# some linear space\n",
      "t = np.linspace(-1,1.2,2001)\n",
      "\n",
      "# cubic function plus norm. dist. noise\n",
      "x = (t**3)+(0.3*np.random.randn(2001))\n",
      "\n",
      "# sixth power plus norm. dist. noise\n",
      "y = (t**6)+(0.3*np.random.randn(2001))\n",
      "\n",
      "# dictionary for the scatter points\n",
      "scatter = {'x':x,\n",
      "           'y':y,\n",
      "           'mode':'markers',\n",
      "           'name':'points',\n",
      "           'marker':{'color':'rgb(102,0,0)',\n",
      "                     'opacity':0.4,'size':2}}\n",
      "\n",
      "# dictionary for the 2d contour histogram\n",
      "hist2d = {'x':x,\n",
      "          'y':y,\n",
      "          'type':'histogram2dcontour',   # NEw plot type!\n",
      "          'name':'density',\n",
      "          'scl':'Hot',        # choose a color scale\n",
      "          'reversescl':True,  # reverse to scale\n",
      "          'showscale':False,  # don't show the color bar\n",
      "          'ncontours':20}     # number of contours \n",
      "\n",
      "# dictionary for the x histogram\n",
      "histx =  {'x':x,\n",
      "          'type':'histogramx',\n",
      "          'name':'x density',\n",
      "          'yaxis':'y2',        # plot on yaxis2\n",
      "          'marker':{'color':'rgb(102,0,0)'}}\n",
      "\n",
      "# dictionary for th y histogram \n",
      "histy =  {'y':y,\n",
      "          'type':'histogramy',\n",
      "          'name':'y density',\n",
      "          'xaxis':'x2',   # plot on xaxis2\n",
      "          'bardir':'h',   # horizontal bars!\n",
      "          'marker':{'color':'rgb(102,0,0)'}}\n",
      "\n",
      "# make data list out of the 4 trace dictionaries\n",
      "data = [scatter,hist2d,histx,histy]\n",
      "\n",
      "# some layout options \n",
      "layout = {'hovermode':'closest',  # info about data pt closest to cursor will appear\n",
      "          'width':600,\n",
      "          'height':550,\n",
      "          'autosize':False,\n",
      "          'showlegend':False,\n",
      "          'bargap':0,          # no space between bars\n",
      "          'margin':{'t':50},\n",
      "          'xaxis':{'domain':[0,0.85],'showgrid':False,'zeroline':False},  # remove grid\n",
      "          'yaxis':{'domain':[0,0.85],'showgrid':False,'zeroline':False},  # and thick\n",
      "          'xaxis2':{'domain':[0.85,1],'showgrid':False,'zeroline':False}, # zero on\n",
      "          'yaxis2':{'domain':[0.85,1],'showgrid':False,'zeroline':False}} # all axes\n",
      "\n",
      "# send data to Plotly and embed plot in notebook\n",
      "py.iplot(data, layout=layout, filename='alex-309')"
     ],
     "language": "python",
     "metadata": {},
     "outputs": [
      {
       "ename": "NameError",
       "evalue": "name 'py' is not defined",
       "output_type": "pyerr",
       "traceback": [
        "\u001b[1;31m---------------------------------------------------------------------------\u001b[0m\n\u001b[1;31mNameError\u001b[0m                                 Traceback (most recent call last)",
        "\u001b[1;32m<ipython-input-3-fa9d084cef77>\u001b[0m in \u001b[0;36m<module>\u001b[1;34m()\u001b[0m\n\u001b[0;32m     60\u001b[0m \u001b[1;33m\u001b[0m\u001b[0m\n\u001b[0;32m     61\u001b[0m \u001b[1;31m# send data to Plotly and embed plot in notebook\u001b[0m\u001b[1;33m\u001b[0m\u001b[1;33m\u001b[0m\u001b[0m\n\u001b[1;32m---> 62\u001b[1;33m \u001b[0mpy\u001b[0m\u001b[1;33m.\u001b[0m\u001b[0miplot\u001b[0m\u001b[1;33m(\u001b[0m\u001b[0mdata\u001b[0m\u001b[1;33m,\u001b[0m \u001b[0mlayout\u001b[0m\u001b[1;33m=\u001b[0m\u001b[0mlayout\u001b[0m\u001b[1;33m,\u001b[0m \u001b[0mfilename\u001b[0m\u001b[1;33m=\u001b[0m\u001b[1;34m'alex-309'\u001b[0m\u001b[1;33m)\u001b[0m\u001b[1;33m\u001b[0m\u001b[0m\n\u001b[0m",
        "\u001b[1;31mNameError\u001b[0m: name 'py' is not defined"
       ]
      }
     ],
     "prompt_number": 3
    },
    {
     "cell_type": "code",
     "collapsed": false,
     "input": [],
     "language": "python",
     "metadata": {},
     "outputs": []
    }
   ],
   "metadata": {}
  }
 ]
}